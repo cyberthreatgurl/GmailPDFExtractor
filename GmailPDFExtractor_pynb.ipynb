{
  "nbformat": 4,
  "nbformat_minor": 0,
  "metadata": {
    "colab": {
      "provenance": [],
      "authorship_tag": "ABX9TyPZT2GNqIvChoqmK3gqm6LN",
      "include_colab_link": true
    },
    "kernelspec": {
      "name": "python3",
      "display_name": "Python 3"
    },
    "language_info": {
      "name": "python"
    }
  },
  "cells": [
    {
      "cell_type": "markdown",
      "metadata": {
        "id": "view-in-github",
        "colab_type": "text"
      },
      "source": [
        "<a href=\"https://colab.research.google.com/github/cyberthreatgurl/GmailPDFExtractor/blob/main/GmailPDFExtractor_pynb.ipynb\" target=\"_parent\"><img src=\"https://colab.research.google.com/assets/colab-badge.svg\" alt=\"Open In Colab\"/></a>"
      ]
    },
    {
      "cell_type": "code",
      "execution_count": 1,
      "metadata": {
        "id": "dzx58zX4F8Ps"
      },
      "outputs": [],
      "source": [
        "# Import necessary libraries for Colab authentication and Google APIs\n",
        "from google.colab import auth\n",
        "import google.auth\n",
        "from googleapiclient.discovery import build\n",
        "from googleapiclient.errors import HttpError\n",
        "from googleapiclient.http import MediaIoBaseUpload\n",
        "import base64\n",
        "import io"
      ]
    },
    {
      "cell_type": "code",
      "source": [
        "# --- SETTINGS ---\n",
        "# The name of the folder in Google Drive where PDFs will be saved.\n",
        "DRIVE_FOLDER_NAME = \"Gmail PDF Attachments\"\n"
      ],
      "metadata": {
        "id": "rQSSfRzNGHPJ"
      },
      "execution_count": 2,
      "outputs": []
    },
    {
      "cell_type": "code",
      "source": [
        "def get_or_create_folder(drive_service, folder_name):\n",
        "    \"\"\"Checks if a folder exists in Google Drive and returns its ID. Creates it if not found.\"\"\"\n",
        "    try:\n",
        "        # Search for the folder\n",
        "        query = f\"mimeType='application/vnd.google-apps.folder' and name='{folder_name}' and trashed=false\"\n",
        "        response = drive_service.files().list(q=query, spaces='drive', fields='files(id, name)').execute()\n",
        "        files = response.get('files', [])\n",
        "\n",
        "        if files:\n",
        "            # Folder exists, return the ID of the first one found\n",
        "            print(f\"Folder '{folder_name}' already exists. ID: {files[0].get('id')}\")\n",
        "            return files[0].get('id')\n",
        "        else:\n",
        "            # Folder does not exist, create it\n",
        "            print(f\"Folder '{folder_name}' not found. Creating it...\")\n",
        "            file_metadata = {\n",
        "                'name': folder_name,\n",
        "                'mimeType': 'application/vnd.google-apps.folder'\n",
        "            }\n",
        "            folder = drive_service.files().create(body=file_metadata, fields='id').execute()\n",
        "            print(f\"Folder created successfully. ID: {folder.get('id')}\")\n",
        "            return folder.get('id')\n",
        "    except HttpError as error:\n",
        "        print(f\"An error occurred: {error}\")\n",
        "        return None\n",
        "\n",
        "def run_script():\n",
        "    \"\"\"\n",
        "    Main function to connect to Gmail, find emails with PDF attachments,\n",
        "    and upload them to a specified Google Drive folder.\n",
        "    \"\"\"\n",
        "    # Step 1: Authenticate the user in the Colab environment.\n",
        "    auth.authenticate_user()\n",
        "    creds, project = google.auth.default()\n",
        "\n",
        "    try:\n",
        "        # Build the service objects for Gmail and Drive using the Colab credentials\n",
        "        gmail_service = build(\"gmail\", \"v1\", credentials=creds)\n",
        "        drive_service = build(\"drive\", \"v3\", credentials=creds)\n",
        "\n",
        "        # Get the ID of the destination folder in Google Drive\n",
        "        folder_id = get_or_create_folder(drive_service, DRIVE_FOLDER_NAME)\n",
        "        if not folder_id:\n",
        "            print(\"Could not find or create the Google Drive folder. Exiting.\")\n",
        "            return\n",
        "\n",
        "        # Search for ALL emails with PDF attachments\n",
        "        query = \"has:attachment filename:pdf\"\n",
        "        result = gmail_service.users().messages().list(userId=\"me\", q=query).execute()\n",
        "        messages = result.get(\"messages\", [])\n",
        "\n",
        "        if not messages:\n",
        "            print(\"No emails with PDF attachments found. ✅\")\n",
        "            return\n",
        "\n",
        "        print(f\"Found {len(messages)} email(s) with PDF attachments. Processing...\")\n",
        "\n",
        "        for msg in messages:\n",
        "            msg_id = msg['id']\n",
        "            message = gmail_service.users().messages().get(userId=\"me\", id=msg_id).execute()\n",
        "\n",
        "            # Skip if the email has already been processed (by checking for the UNREAD label)\n",
        "            if 'UNREAD' not in message['labelIds']:\n",
        "                print(f\"Skipping already processed email ID {msg_id}.\")\n",
        "                continue\n",
        "\n",
        "            payload = message.get('payload', {})\n",
        "            parts = payload.get('parts', [])\n",
        "\n",
        "            for part in parts:\n",
        "                filename = part.get('filename')\n",
        "                if filename and filename.lower().endswith('.pdf'):\n",
        "                    attachment_id = part['body'].get('attachmentId')\n",
        "                    attachment = gmail_service.users().messages().attachments().get(\n",
        "                        userId=\"me\", messageId=msg_id, id=attachment_id\n",
        "                    ).execute()\n",
        "\n",
        "                    file_data = base64.urlsafe_b64decode(attachment['data'].encode('UTF-8'))\n",
        "\n",
        "                    media_body = io.BytesIO(file_data)\n",
        "                    file_metadata = {\n",
        "                        'name': filename,\n",
        "                        'parents': [folder_id]\n",
        "                    }\n",
        "\n",
        "                    print(f\"  -> Uploading '{filename}' to Google Drive...\")\n",
        "                    drive_service.files().create(\n",
        "                        body=file_metadata,\n",
        "                        media_body=MediaIoBaseUpload(media_body, mimetype='application/pdf')\n",
        "                    ).execute()\n",
        "                    print(f\"  -> Successfully uploaded '{filename}'.\")\n",
        "\n",
        "            # Mark the email as read by removing the 'UNREAD' label\n",
        "            gmail_service.users().messages().modify(\n",
        "                userId=\"me\", id=msg_id, body={'removeLabelIds': ['UNREAD']}\n",
        "            ).execute()\n",
        "            print(f\"-> Marked email ID {msg_id} as read to prevent re-processing.\\n\")\n",
        "\n",
        "    except HttpError as error:\n",
        "        print(f\"An error occurred: {error}\")\n",
        "\n"
      ],
      "metadata": {
        "id": "21eoNmvXGLM1"
      },
      "execution_count": 4,
      "outputs": []
    },
    {
      "cell_type": "code",
      "source": [
        "# --- Execute the script ---\n",
        "run_script()"
      ],
      "metadata": {
        "colab": {
          "base_uri": "https://localhost:8080/"
        },
        "id": "iwoDaBvtGk9r",
        "outputId": "0ca19b4e-f358-4cee-8a30-72a88f3a34dc"
      },
      "execution_count": 5,
      "outputs": [
        {
          "output_type": "stream",
          "name": "stdout",
          "text": [
            "An error occurred: <HttpError 401 when requesting https://www.googleapis.com/drive/v3/files?q=mimeType%3D%27application%2Fvnd.google-apps.folder%27+and+name%3D%27Gmail+PDF+Attachments%27+and+trashed%3Dfalse&spaces=drive&fields=files%28id%2C+name%29&alt=json returned \"Request had invalid authentication credentials. Expected OAuth 2 access token, login cookie or other valid authentication credential. See https://developers.google.com/identity/sign-in/web/devconsole-project.\". Details: \"[{'message': 'Invalid Credentials', 'domain': 'global', 'reason': 'authError', 'location': 'Authorization', 'locationType': 'header'}]\">\n",
            "Could not find or create the Google Drive folder. Exiting.\n"
          ]
        }
      ]
    }
  ]
}