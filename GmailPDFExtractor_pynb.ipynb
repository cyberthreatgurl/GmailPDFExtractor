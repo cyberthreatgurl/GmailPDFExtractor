{
  "nbformat": 4,
  "nbformat_minor": 0,
  "metadata": {
    "colab": {
      "provenance": [],
      "authorship_tag": "ABX9TyOWrffA8DenQih0ZI+YNu76",
      "include_colab_link": true
    },
    "kernelspec": {
      "name": "python3",
      "display_name": "Python 3"
    },
    "language_info": {
      "name": "python"
    }
  },
  "cells": [
    {
      "cell_type": "markdown",
      "metadata": {
        "id": "view-in-github",
        "colab_type": "text"
      },
      "source": [
        "<a href=\"https://colab.research.google.com/github/cyberthreatgurl/GmailPDFExtractor/blob/main/GmailPDFExtractor_pynb.ipynb\" target=\"_parent\"><img src=\"https://colab.research.google.com/assets/colab-badge.svg\" alt=\"Open In Colab\"/></a>"
      ]
    },
    {
      "cell_type": "code",
      "source": [
        "!pip install google-auth-oauthlib==0.4.4"
      ],
      "metadata": {
        "id": "vDQMLs8pPGU-"
      },
      "execution_count": null,
      "outputs": []
    },
    {
      "cell_type": "code",
      "execution_count": null,
      "metadata": {
        "id": "dzx58zX4F8Ps"
      },
      "outputs": [],
      "source": [
        "# Import necessary libraries\n",
        "import os.path\n",
        "import base64\n",
        "import io\n",
        "from google.auth.transport.requests import Request\n",
        "from google.oauth2.credentials import Credentials\n",
        "from google_auth_oauthlib.flow import InstalledAppFlow\n",
        "from googleapiclient.discovery import build\n",
        "from googleapiclient.errors import HttpError\n",
        "from googleapiclient.http import MediaIoBaseUpload"
      ]
    },
    {
      "cell_type": "code",
      "source": [
        "# --- THIS SCOPES VARIABLE IS NOW THE SOURCE OF TRUTH ---\n",
        "# It explicitly tells Google which permissions to ask for.\n",
        "SCOPES = [\n",
        "    \"https://www.googleapis.com/auth/gmail.readonly\",\n",
        "    \"https://www.googleapis.com/auth/drive.file\",\n",
        "    \"https://www.googleapis.com/auth/gmail.modify\"\n",
        "]\n",
        "\n",
        "# The name of the folder in Google Drive where PDFs will be saved.\n",
        "DRIVE_FOLDER_NAME = \"Gmail PDF Attachments\""
      ],
      "metadata": {
        "id": "rQSSfRzNGHPJ"
      },
      "execution_count": null,
      "outputs": []
    },
    {
      "cell_type": "code",
      "source": [
        "def explicit_authenticate():\n",
        "    \"\"\"\n",
        "    Performs an explicit authentication flow using credentials.json,\n",
        "    perfect for forcing the correct scopes in Colab.\n",
        "    \"\"\"\n",
        "    creds = None\n",
        "    if os.path.exists(\"token.json\"):\n",
        "        creds = Credentials.from_authorized_user_file(\"token.json\", SCOPES)\n",
        "    if not creds or not creds.valid:\n",
        "        if creds and creds.expired and creds.refresh_token:\n",
        "            creds.refresh(Request())\n",
        "        else:\n",
        "            # This uses your uploaded credentials.json\n",
        "            flow = InstalledAppFlow.from_client_secrets_file(\"credentials.json\", SCOPES)\n",
        "            # This runs an auth flow designed for command-line/notebook environments\n",
        "            creds = flow.run_console()\n",
        "        with open(\"token.json\", \"w\") as token:\n",
        "            token.write(creds.to_json())\n",
        "    return creds\n",
        "\n",
        "# The rest of the script is the same, but it will now use the credentials\n",
        "# we generated above, which are guaranteed to have the correct permissions.\n",
        "\n",
        "def get_or_create_folder(drive_service, folder_name):\n",
        "    \"\"\"Checks if a folder exists in Google Drive and returns its ID. Creates it if not found.\"\"\"\n",
        "    try:\n",
        "        query = f\"mimeType='application/vnd.google-apps.folder' and name='{folder_name}' and trashed=false\"\n",
        "        response = drive_service.files().list(q=query, spaces='drive', fields='files(id, name)').execute()\n",
        "        files = response.get('files', [])\n",
        "        if files:\n",
        "            print(f\"Folder '{folder_name}' already exists. ID: {files[0].get('id')}\")\n",
        "            return files[0].get('id')\n",
        "        else:\n",
        "            print(f\"Folder '{folder_name}' not found. Creating it...\")\n",
        "            file_metadata = {'name': folder_name, 'mimeType': 'application/vnd.google-apps.folder'}\n",
        "            folder = drive_service.files().create(body=file_metadata, fields='id').execute()\n",
        "            print(f\"Folder created successfully. ID: {folder.get('id')}\")\n",
        "            return folder.get('id')\n",
        "    except HttpError as error:\n",
        "        print(f\"An error occurred: {error}\")\n",
        "        return None\n",
        "\n",
        "def run_script():\n",
        "    \"\"\"Main function to run the process.\"\"\"\n",
        "    # Use our new explicit authentication function\n",
        "    creds = explicit_authenticate()\n",
        "    try:\n",
        "        gmail_service = build(\"gmail\", \"v1\", credentials=creds)\n",
        "        drive_service = build(\"drive\", \"v3\", credentials=creds)\n",
        "\n",
        "        folder_id = get_or_create_folder(drive_service, DRIVE_FOLDER_NAME)\n",
        "        if not folder_id:\n",
        "            print(\"Could not find or create the Google Drive folder. Exiting.\")\n",
        "            return\n",
        "\n",
        "        # ... (The rest of the email processing logic is identical)\n",
        "        query = \"has:attachment filename:pdf\"\n",
        "        result = gmail_service.users().messages().list(userId=\"me\", q=query).execute()\n",
        "        messages = result.get(\"messages\", [])\n",
        "\n",
        "        if not messages:\n",
        "            print(\"No emails with PDF attachments found. ✅\")\n",
        "            return\n",
        "\n",
        "        print(f\"Found {len(messages)} email(s) with PDF attachments. Processing...\")\n",
        "        # ... (rest of the code is the same)\n",
        "        for msg in messages:\n",
        "            msg_id = msg['id']\n",
        "            message = gmail_service.users().messages().get(userId=\"me\", id=msg_id).execute()\n",
        "            # the following three lines need to be un-commented out to being\n",
        "            # extracting only new messages.\n",
        "            #if 'UNREAD' not in message['labelIds']:\n",
        "            #    print(f\"Skipping already processed email ID {msg_id}.\")\n",
        "            #    continue\n",
        "            payload = message.get('payload', {})\n",
        "            parts = payload.get('parts', [])\n",
        "            for part in parts:\n",
        "                filename = part.get('filename')\n",
        "                if filename and filename.lower().endswith('.pdf'):\n",
        "                    attachment_id = part['body'].get('attachmentId')\n",
        "                    attachment = gmail_service.users().messages().attachments().get(userId=\"me\", messageId=msg_id, id=attachment_id).execute()\n",
        "                    file_data = base64.urlsafe_b64decode(attachment['data'].encode('UTF-8'))\n",
        "                    media_body = io.BytesIO(file_data)\n",
        "                    file_metadata = {'name': filename, 'parents': [folder_id]}\n",
        "                    print(f\"  -> Uploading '{filename}' to Google Drive...\")\n",
        "                    drive_service.files().create(body=file_metadata, media_body=MediaIoBaseUpload(media_body, mimetype='application/pdf')).execute()\n",
        "                    print(f\"  -> Successfully uploaded '{filename}'.\")\n",
        "            gmail_service.users().messages().modify(userId=\"me\", id=msg_id, body={'removeLabelIds': ['UNREAD']}).execute()\n",
        "            print(f\"-> Marked email ID {msg_id} as read to prevent re-processing.\\n\")\n",
        "\n",
        "    except HttpError as error:\n",
        "        print(f\"An error occurred: {error}\")"
      ],
      "metadata": {
        "id": "cp3AtZPHLnBm"
      },
      "execution_count": null,
      "outputs": []
    },
    {
      "cell_type": "code",
      "source": [
        "# --- Execute the script ---\n",
        "run_script()"
      ],
      "metadata": {
        "id": "iwoDaBvtGk9r"
      },
      "execution_count": null,
      "outputs": []
    }
  ]
}